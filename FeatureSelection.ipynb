{
 "cells": [
  {
   "cell_type": "markdown",
   "metadata": {},
   "source": [
    "# Feature Selection"
   ]
  },
  {
   "cell_type": "code",
   "execution_count": 1,
   "metadata": {},
   "outputs": [],
   "source": [
    "# loading the required packages\n",
    "import time\n",
    "import psutil\n",
    "import multiprocessing as mp\n",
    "\n",
    "# system & general libraries\n",
    "import sys\n",
    "import warnings\n",
    "warnings.filterwarnings('ignore')\n",
    "sys.setrecursionlimit(1000000)\n",
    "\n",
    "# pre-processing\n",
    "import numpy as np\n",
    "import pandas as pd\n",
    "from sklearn.preprocessing import LabelEncoder\n",
    "\n",
    "# imputation libraries\n",
    "\n",
    "from impyute.imputation.cs import mice\n",
    "from impyute.imputation.cs import fast_knn\n",
    "from missingpy import MissForest\n",
    "from sklearn.experimental import enable_iterative_imputer\n",
    "from sklearn.impute import IterativeImputer\n",
    "\n",
    "# visualization libraries\n",
    "import matplotlib.pyplot as plt\n",
    "import seaborn as sns\n"
   ]
  },
  {
   "cell_type": "code",
   "execution_count": 3,
   "metadata": {},
   "outputs": [
    {
     "name": "stdout",
     "output_type": "stream",
     "text": [
      "memory usage after importing data :\n",
      "\n",
      " svmem(total=17066516480, available=6134444032, percent=64.1, used=10932072448, free=6134444032)\n"
     ]
    }
   ],
   "source": [
    "# importing the data\n",
    "Accidents = pd.read_csv('./Accident_Information.csv')\n",
    "Vehicles = pd.read_csv('./Vehicle_Information.csv', encoding='ISO-8859-1')\n",
    "# for checking the virtual memory available\n",
    "print(\"memory usage after importing data :\\n\\n\",psutil.virtual_memory())"
   ]
  },
  {
   "cell_type": "code",
   "execution_count": 6,
   "metadata": {},
   "outputs": [
    {
     "name": "stdout",
     "output_type": "stream",
     "text": [
      "<class 'pandas.core.frame.DataFrame'>\n",
      "Int64Index: 2058408 entries, 0 to 2058407\n",
      "Data columns (total 57 columns):\n",
      "Accident_Index                                 object\n",
      "Age_Band_of_Driver                             object\n",
      "Age_of_Vehicle                                 float64\n",
      "Driver_Home_Area_Type                          object\n",
      "Driver_IMD_Decile                              float64\n",
      "Engine_Capacity_.CC.                           float64\n",
      "Hit_Object_in_Carriageway                      object\n",
      "Hit_Object_off_Carriageway                     object\n",
      "Journey_Purpose_of_Driver                      object\n",
      "Junction_Location                              object\n",
      "make                                           object\n",
      "model                                          object\n",
      "Propulsion_Code                                object\n",
      "Sex_of_Driver                                  object\n",
      "Skidding_and_Overturning                       object\n",
      "Towing_and_Articulation                        object\n",
      "Vehicle_Leaving_Carriageway                    object\n",
      "Vehicle_Location.Restricted_Lane               float64\n",
      "Vehicle_Manoeuvre                              object\n",
      "Vehicle_Reference                              int64\n",
      "Vehicle_Type                                   object\n",
      "Was_Vehicle_Left_Hand_Drive                    object\n",
      "X1st_Point_of_Impact                           object\n",
      "Year_x                                         int64\n",
      "1st_Road_Class                                 object\n",
      "1st_Road_Number                                float64\n",
      "2nd_Road_Class                                 object\n",
      "2nd_Road_Number                                float64\n",
      "Accident_Severity                              object\n",
      "Carriageway_Hazards                            object\n",
      "Date                                           object\n",
      "Day_of_Week                                    object\n",
      "Did_Police_Officer_Attend_Scene_of_Accident    float64\n",
      "Junction_Control                               object\n",
      "Junction_Detail                                object\n",
      "Latitude                                       float64\n",
      "Light_Conditions                               object\n",
      "Local_Authority_(District)                     object\n",
      "Local_Authority_(Highway)                      object\n",
      "Location_Easting_OSGR                          float64\n",
      "Location_Northing_OSGR                         float64\n",
      "Longitude                                      float64\n",
      "LSOA_of_Accident_Location                      object\n",
      "Number_of_Casualties                           int64\n",
      "Number_of_Vehicles                             int64\n",
      "Pedestrian_Crossing-Human_Control              float64\n",
      "Pedestrian_Crossing-Physical_Facilities        float64\n",
      "Police_Force                                   object\n",
      "Road_Surface_Conditions                        object\n",
      "Road_Type                                      object\n",
      "Special_Conditions_at_Site                     object\n",
      "Speed_limit                                    float64\n",
      "Time                                           object\n",
      "Urban_or_Rural_Area                            object\n",
      "Weather_Conditions                             object\n",
      "Year_y                                         int64\n",
      "InScotland                                     object\n",
      "dtypes: float64(14), int64(5), object(38)\n",
      "memory usage: 910.9+ MB\n"
     ]
    }
   ],
   "source": [
    "# merging\n",
    "acc_vehicle_info = pd.merge(Vehicles, Accidents, how = 'inner', on = 'Accident_Index')\n",
    "acc_vehicle_info.info()"
   ]
  },
  {
   "cell_type": "code",
   "execution_count": null,
   "metadata": {},
   "outputs": [],
   "source": []
  }
 ],
 "metadata": {
  "kernelspec": {
   "display_name": "Python 3",
   "language": "python",
   "name": "python3"
  },
  "language_info": {
   "codemirror_mode": {
    "name": "ipython",
    "version": 3
   },
   "file_extension": ".py",
   "mimetype": "text/x-python",
   "name": "python",
   "nbconvert_exporter": "python",
   "pygments_lexer": "ipython3",
   "version": "3.7.3"
  }
 },
 "nbformat": 4,
 "nbformat_minor": 2
}
