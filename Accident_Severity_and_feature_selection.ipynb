{
 "cells": [
  {
   "cell_type": "code",
   "execution_count": 1,
   "metadata": {},
   "outputs": [],
   "source": [
    "import pandas as pd\n",
    "import numpy as np"
   ]
  },
  {
   "cell_type": "code",
   "execution_count": 2,
   "metadata": {},
   "outputs": [
    {
     "data": {
      "text/html": [
       "<div>\n",
       "<style scoped>\n",
       "    .dataframe tbody tr th:only-of-type {\n",
       "        vertical-align: middle;\n",
       "    }\n",
       "\n",
       "    .dataframe tbody tr th {\n",
       "        vertical-align: top;\n",
       "    }\n",
       "\n",
       "    .dataframe thead th {\n",
       "        text-align: right;\n",
       "    }\n",
       "</style>\n",
       "<table border=\"1\" class=\"dataframe\">\n",
       "  <thead>\n",
       "    <tr style=\"text-align: right;\">\n",
       "      <th></th>\n",
       "      <th>Age_Band_of_Driver</th>\n",
       "      <th>Age_of_Vehicle</th>\n",
       "      <th>Engine_Capacity_.CC.</th>\n",
       "      <th>Junction_Location</th>\n",
       "      <th>Sex_of_Driver</th>\n",
       "      <th>Skidding_and_Overturning</th>\n",
       "      <th>Towing_and_Articulation</th>\n",
       "      <th>Vehicle_Manoeuvre</th>\n",
       "      <th>X1st_Point_of_Impact</th>\n",
       "      <th>Accident_Severity</th>\n",
       "      <th>Junction_Control</th>\n",
       "      <th>Junction_Detail</th>\n",
       "      <th>Light_Conditions</th>\n",
       "      <th>Number_of_Casualties</th>\n",
       "      <th>Number_of_Vehicles</th>\n",
       "      <th>Road_Surface_Conditions</th>\n",
       "      <th>Road_Type</th>\n",
       "      <th>Urban_or_Rural_Area</th>\n",
       "      <th>Weather_Conditions</th>\n",
       "    </tr>\n",
       "  </thead>\n",
       "  <tbody>\n",
       "    <tr>\n",
       "      <th>0</th>\n",
       "      <td>6.0</td>\n",
       "      <td>3.0</td>\n",
       "      <td>8268.0</td>\n",
       "      <td>0.0</td>\n",
       "      <td>0.0</td>\n",
       "      <td>0.0</td>\n",
       "      <td>0.0</td>\n",
       "      <td>0.0</td>\n",
       "      <td>0.0</td>\n",
       "      <td>0.0</td>\n",
       "      <td>0.0</td>\n",
       "      <td>0.0</td>\n",
       "      <td>0.0</td>\n",
       "      <td>1.0</td>\n",
       "      <td>1.0</td>\n",
       "      <td>0.0</td>\n",
       "      <td>0.0</td>\n",
       "      <td>0.0</td>\n",
       "      <td>0.0</td>\n",
       "    </tr>\n",
       "    <tr>\n",
       "      <th>1</th>\n",
       "      <td>5.0</td>\n",
       "      <td>5.0</td>\n",
       "      <td>8300.0</td>\n",
       "      <td>1.0</td>\n",
       "      <td>0.0</td>\n",
       "      <td>0.0</td>\n",
       "      <td>0.0</td>\n",
       "      <td>1.0</td>\n",
       "      <td>0.0</td>\n",
       "      <td>0.0</td>\n",
       "      <td>5.0</td>\n",
       "      <td>1.0</td>\n",
       "      <td>0.0</td>\n",
       "      <td>1.0</td>\n",
       "      <td>2.0</td>\n",
       "      <td>0.0</td>\n",
       "      <td>1.0</td>\n",
       "      <td>0.0</td>\n",
       "      <td>0.0</td>\n",
       "    </tr>\n",
       "    <tr>\n",
       "      <th>2</th>\n",
       "      <td>7.0</td>\n",
       "      <td>4.0</td>\n",
       "      <td>1769.0</td>\n",
       "      <td>1.0</td>\n",
       "      <td>1.0</td>\n",
       "      <td>0.0</td>\n",
       "      <td>0.0</td>\n",
       "      <td>2.0</td>\n",
       "      <td>1.0</td>\n",
       "      <td>0.0</td>\n",
       "      <td>5.0</td>\n",
       "      <td>1.0</td>\n",
       "      <td>1.0</td>\n",
       "      <td>1.0</td>\n",
       "      <td>1.0</td>\n",
       "      <td>0.0</td>\n",
       "      <td>1.0</td>\n",
       "      <td>0.0</td>\n",
       "      <td>0.0</td>\n",
       "    </tr>\n",
       "    <tr>\n",
       "      <th>3</th>\n",
       "      <td>7.0</td>\n",
       "      <td>10.0</td>\n",
       "      <td>85.0</td>\n",
       "      <td>1.0</td>\n",
       "      <td>0.0</td>\n",
       "      <td>1.0</td>\n",
       "      <td>0.0</td>\n",
       "      <td>2.0</td>\n",
       "      <td>1.0</td>\n",
       "      <td>0.0</td>\n",
       "      <td>5.0</td>\n",
       "      <td>1.0</td>\n",
       "      <td>2.0</td>\n",
       "      <td>1.0</td>\n",
       "      <td>1.0</td>\n",
       "      <td>1.0</td>\n",
       "      <td>1.0</td>\n",
       "      <td>0.0</td>\n",
       "      <td>0.0</td>\n",
       "    </tr>\n",
       "    <tr>\n",
       "      <th>4</th>\n",
       "      <td>7.0</td>\n",
       "      <td>1.0</td>\n",
       "      <td>2976.0</td>\n",
       "      <td>1.0</td>\n",
       "      <td>0.0</td>\n",
       "      <td>0.0</td>\n",
       "      <td>0.0</td>\n",
       "      <td>3.0</td>\n",
       "      <td>2.0</td>\n",
       "      <td>0.0</td>\n",
       "      <td>5.0</td>\n",
       "      <td>1.0</td>\n",
       "      <td>1.0</td>\n",
       "      <td>1.0</td>\n",
       "      <td>2.0</td>\n",
       "      <td>1.0</td>\n",
       "      <td>1.0</td>\n",
       "      <td>0.0</td>\n",
       "      <td>1.0</td>\n",
       "    </tr>\n",
       "  </tbody>\n",
       "</table>\n",
       "</div>"
      ],
      "text/plain": [
       "   Age_Band_of_Driver  Age_of_Vehicle  Engine_Capacity_.CC.  \\\n",
       "0                 6.0             3.0                8268.0   \n",
       "1                 5.0             5.0                8300.0   \n",
       "2                 7.0             4.0                1769.0   \n",
       "3                 7.0            10.0                  85.0   \n",
       "4                 7.0             1.0                2976.0   \n",
       "\n",
       "   Junction_Location  Sex_of_Driver  Skidding_and_Overturning  \\\n",
       "0                0.0            0.0                       0.0   \n",
       "1                1.0            0.0                       0.0   \n",
       "2                1.0            1.0                       0.0   \n",
       "3                1.0            0.0                       1.0   \n",
       "4                1.0            0.0                       0.0   \n",
       "\n",
       "   Towing_and_Articulation  Vehicle_Manoeuvre  X1st_Point_of_Impact  \\\n",
       "0                      0.0                0.0                   0.0   \n",
       "1                      0.0                1.0                   0.0   \n",
       "2                      0.0                2.0                   1.0   \n",
       "3                      0.0                2.0                   1.0   \n",
       "4                      0.0                3.0                   2.0   \n",
       "\n",
       "   Accident_Severity  Junction_Control  Junction_Detail  Light_Conditions  \\\n",
       "0                0.0               0.0              0.0               0.0   \n",
       "1                0.0               5.0              1.0               0.0   \n",
       "2                0.0               5.0              1.0               1.0   \n",
       "3                0.0               5.0              1.0               2.0   \n",
       "4                0.0               5.0              1.0               1.0   \n",
       "\n",
       "   Number_of_Casualties  Number_of_Vehicles  Road_Surface_Conditions  \\\n",
       "0                   1.0                 1.0                      0.0   \n",
       "1                   1.0                 2.0                      0.0   \n",
       "2                   1.0                 1.0                      0.0   \n",
       "3                   1.0                 1.0                      1.0   \n",
       "4                   1.0                 2.0                      1.0   \n",
       "\n",
       "   Road_Type  Urban_or_Rural_Area  Weather_Conditions  \n",
       "0        0.0                  0.0                 0.0  \n",
       "1        1.0                  0.0                 0.0  \n",
       "2        1.0                  0.0                 0.0  \n",
       "3        1.0                  0.0                 0.0  \n",
       "4        1.0                  0.0                 1.0  "
      ]
     },
     "execution_count": 2,
     "metadata": {},
     "output_type": "execute_result"
    }
   ],
   "source": [
    "df = pd.read_csv('mf_bin_imputed.csv')\n",
    "df.head()"
   ]
  },
  {
   "cell_type": "code",
   "execution_count": 21,
   "metadata": {},
   "outputs": [],
   "source": [
    "time_speed_limit_info = pd.read_csv('Accident_Information.csv',usecols = ['Speed_limit', 'Time'] )"
   ]
  },
  {
   "cell_type": "code",
   "execution_count": 32,
   "metadata": {},
   "outputs": [
    {
     "data": {
      "text/plain": [
       "0.0    1765618\n",
       "1.0     292756\n",
       "Name: Accident_Severity, dtype: int64"
      ]
     },
     "execution_count": 32,
     "metadata": {},
     "output_type": "execute_result"
    }
   ],
   "source": [
    "df.Accident_Severity.value_counts()"
   ]
  },
  {
   "cell_type": "code",
   "execution_count": 33,
   "metadata": {},
   "outputs": [
    {
     "name": "stdout",
     "output_type": "stream",
     "text": [
      "The size of undersampled dataset (1029187, 19)\n"
     ]
    }
   ],
   "source": [
    "# Undersampling the data\n",
    "weights = np.where(df['Accident_Severity'] == 0,0.3,0.7)\n",
    "\n",
    "# sampling only 50% of data\n",
    "df_new = df.sample(frac = 0.5, replace = True, weights = weights)\n",
    "print(\"The size of undersampled dataset\",df_new.shape)"
   ]
  },
  {
   "cell_type": "code",
   "execution_count": 34,
   "metadata": {},
   "outputs": [
    {
     "data": {
      "text/plain": [
       "0.0    742157\n",
       "1.0    287030\n",
       "Name: Accident_Severity, dtype: int64"
      ]
     },
     "execution_count": 34,
     "metadata": {},
     "output_type": "execute_result"
    }
   ],
   "source": [
    "df_new.Accident_Severity.value_counts()"
   ]
  },
  {
   "cell_type": "code",
   "execution_count": 35,
   "metadata": {},
   "outputs": [],
   "source": [
    "X = df_new.drop(['Accident_Severity'], axis = 1)\n",
    "Y = df_new['Accident_Severity']"
   ]
  },
  {
   "cell_type": "code",
   "execution_count": 36,
   "metadata": {},
   "outputs": [],
   "source": [
    "from sklearn.model_selection import train_test_split\n",
    "X_train, X_test, Y_train, Y_test = train_test_split(X,Y, test_size = 0.3, random_state = 1)"
   ]
  },
  {
   "cell_type": "code",
   "execution_count": 37,
   "metadata": {},
   "outputs": [
    {
     "name": "stderr",
     "output_type": "stream",
     "text": [
      "F:\\Anaconda\\lib\\site-packages\\sklearn\\linear_model\\logistic.py:432: FutureWarning: Default solver will be changed to 'lbfgs' in 0.22. Specify a solver to silence this warning.\n",
      "  FutureWarning)\n"
     ]
    }
   ],
   "source": [
    "from sklearn.linear_model import LogisticRegression\n",
    "clf = LogisticRegression(class_weight = 'balanced')\n",
    "log_reg = clf.fit(X_train, Y_train)"
   ]
  },
  {
   "cell_type": "code",
   "execution_count": 38,
   "metadata": {},
   "outputs": [
    {
     "name": "stdout",
     "output_type": "stream",
     "text": [
      "              precision    recall  f1-score   support\n",
      "\n",
      "         0.0       0.79      0.63      0.70    222847\n",
      "         1.0       0.37      0.56      0.45     85910\n",
      "\n",
      "    accuracy                           0.61    308757\n",
      "   macro avg       0.58      0.60      0.57    308757\n",
      "weighted avg       0.67      0.61      0.63    308757\n",
      "\n",
      "0.6335456404012819\n",
      "0.6090193906534913\n"
     ]
    }
   ],
   "source": [
    "from sklearn.metrics import classification_report,f1_score,confusion_matrix,accuracy_score,roc_auc_score\n",
    "y_pred = clf.predict(X_test)\n",
    "print(classification_report(Y_test, y_pred))\n",
    "print(roc_auc_score(Y_test.values, clf.predict_proba(X_test)[:,1]))\n",
    "print(accuracy_score(Y_test,y_pred))"
   ]
  }
 ],
 "metadata": {
  "kernelspec": {
   "display_name": "Python 3",
   "language": "python",
   "name": "python3"
  },
  "language_info": {
   "codemirror_mode": {
    "name": "ipython",
    "version": 3
   },
   "file_extension": ".py",
   "mimetype": "text/x-python",
   "name": "python",
   "nbconvert_exporter": "python",
   "pygments_lexer": "ipython3",
   "version": "3.7.3"
  }
 },
 "nbformat": 4,
 "nbformat_minor": 2
}
